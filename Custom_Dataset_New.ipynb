{
 "cells": [
  {
   "cell_type": "code",
   "execution_count": 1,
   "metadata": {},
   "outputs": [],
   "source": [
    "import pandas as pd\n",
    "\n",
    "df_esc50=pd.read_csv(r\"D:\\custom dataset\\esc50.csv\")"
   ]
  },
  {
   "cell_type": "markdown",
   "metadata": {},
   "source": [
    "## Adding Custom Caption for our new dataset"
   ]
  },
  {
   "cell_type": "markdown",
   "metadata": {},
   "source": [
    "#### With airport sound in background"
   ]
  },
  {
   "cell_type": "code",
   "execution_count": 11,
   "metadata": {},
   "outputs": [],
   "source": [
    "text=\" with sound of airport in background\"\n",
    "changed_label=df_esc50[\"category\"]+text\n",
    "audio_ids=df_esc50[\"filename\"]\n",
    "df=pd.DataFrame({\"wav\":\"custom_with_airport/0_\"+audio_ids,\"caption\":changed_label})\n",
    "\n",
    "for i in range(1,11):\n",
    "    df1=pd.DataFrame({\"wav\":\"custom_with_airport/\"+str(i)+\"_\"+audio_ids,\"caption\":changed_label})\n",
    "    df=pd.concat([df,df1])\n",
    "df.reset_index(drop=True, inplace=True)\n",
    "data=df[:21000]\n",
    "data_val=df[21000:21864]"
   ]
  },
  {
   "cell_type": "markdown",
   "metadata": {},
   "source": [
    "#### With sound of traffic in background"
   ]
  },
  {
   "cell_type": "code",
   "execution_count": 12,
   "metadata": {},
   "outputs": [],
   "source": [
    "text2=\" with sound of traffic in background\"\n",
    "changed_label=df_esc50[\"category\"]+text2\n",
    "audio_ids=df_esc50[\"filename\"]\n",
    "df=pd.DataFrame({\"wav\":\"custom_with_traffic/0_\"+audio_ids,\"caption\":changed_label})\n",
    "\n",
    "for i in range(1,11):\n",
    "    df1=pd.DataFrame({\"wav\":\"custom_with_traffic/\"+str(i)+\"_\"+audio_ids,\"caption\":changed_label})\n",
    "    df=pd.concat([df,df1])\n",
    "df.reset_index(drop=True, inplace=True)\n",
    "data2=df[:21000]\n",
    "data2_val=df[21000:21864]"
   ]
  },
  {
   "cell_type": "code",
   "execution_count": 4,
   "metadata": {},
   "outputs": [
    {
     "name": "stdout",
     "output_type": "stream",
     "text": [
      "CSV file created: sound_labels.csv\n"
     ]
    }
   ],
   "source": [
    "audio_location=[]\n",
    "from os.path import exists\n",
    "import csv\n",
    "\n",
    "sound_labels = [\n",
    "    \"Dog\", \"Rain\", \"Crying_baby\", \"Door_wood_knock\", \"Helicopter\", \"Rooster\",\n",
    "    \"Sea_waves\", \"Sneezing\", \"Mouse_click\", \"Chainsaw\", \"Pig\", \"Crackling_fire\",\n",
    "    \"Clapping\", \"Keyboard_typing\", \"Siren\", \"Cow\", \"Crickets\", \"Breathing\",\n",
    "    \"Door_wood_creaks\", \"Car_horn\", \"Frog\", \"Chirping_birds\", \"Coughing\",\n",
    "    \"Can_opening\", \"Engine\", \"Cat\", \"Water_drops\", \"Footsteps\", \"Washing_machine\",\n",
    "    \"Train\", \"Hen\", \"Wind\", \"Laughing\", \"Vacuum_cleaner\", \"Church_bells\",\n",
    "    \"Insects\", \"flying\", \"Pouring_water\", \"Brushing_teeth\", \"Clock_alarm\", \"Airplane\",\n",
    "    \"Sheep\", \"Toilet_flush\", \"Snoring\", \"Clock_tick\", \"Fireworks\", \"Crow\",\n",
    "    \"Thunderstorm\", \"Drinking_sipping\", \"Glass_breaking\", \"Hand_saw\", \"Airport\",\n",
    "    \"Traffic\"\n",
    "]\n",
    "\n",
    "sound_id_map = {}\n",
    "next_id = 0  # Keep track of the next available ID\n",
    "\n",
    "for label in sound_labels:\n",
    "  # Assign unique ID to each label\n",
    "  sound_id_map[label.lower()] = \"/m/0\"+str(next_id)\n",
    "  next_id += 1\n",
    "# Get the sound labels and IDs from the dictionary\n",
    "sound_labels = list(sound_id_map.keys())\n",
    "sound_ids = list(sound_id_map.values())\n",
    "\n",
    "# Create a list of rows for the CSV with index as the first column\n",
    "data_csv = []\n",
    "for i in range(len(sound_labels)):\n",
    "  data_csv.append([i+1, sound_ids[i],sound_labels[i],])  # Include index starting from 1\n",
    "\n",
    "# Open a CSV file for writing\n",
    "with open(\"sound_labels.csv\", \"w\", newline=\"\") as csvfile:\n",
    "  writer = csv.writer(csvfile)\n",
    "  writer.writerow([\"Index\", \"mid\", \"display_name\"])  # Write header row\n",
    "  writer.writerows(data_csv)\n",
    "\n",
    "print(\"CSV file created: sound_labels.csv\")"
   ]
  },
  {
   "cell_type": "markdown",
   "metadata": {},
   "source": [
    "#### Custom audio with airport sound overlayed in backcground"
   ]
  },
  {
   "cell_type": "code",
   "execution_count": 7,
   "metadata": {},
   "outputs": [],
   "source": [
    "from pydub import AudioSegment\n",
    "import os\n",
    "# Load the foreground audio\n",
    "for i,file in enumerate(os.listdir(r\"D:\\custom dataset\\Acoustic\\airport\")):\n",
    "    for wav in os.listdir(r'D:\\custom dataset\\esc50\\audio'):\n",
    "        foreground_audio = AudioSegment.from_file(r'D:\\custom dataset\\esc50\\audio'+'//'+wav, format=\"wav\")*2 + 3\n",
    "        background_audio = AudioSegment.from_file('D://custom dataset//Acoustic//airport//'+file, format=\"wav\") - 3\n",
    "        combined_audio = background_audio.overlay(foreground_audio, position=0)\n",
    "        if not os.path.exists('D://custom dataset//custom_with_airport'):\n",
    "            os.makedirs('D://custom dataset//custom_with_airport')\n",
    "        combined_audio.export('D://custom dataset//custom_with_airport//'+str(i)+'_'+wav, format=\"wav\")"
   ]
  },
  {
   "cell_type": "markdown",
   "metadata": {},
   "source": [
    "#### Custom audio with traffic sound overlayed in backcground"
   ]
  },
  {
   "cell_type": "code",
   "execution_count": 10,
   "metadata": {},
   "outputs": [],
   "source": [
    "from pydub import AudioSegment\n",
    "import os\n",
    "# Load the foreground audio\n",
    "for i,file in enumerate(os.listdir(r\"D:\\custom dataset\\Acoustic\\traffic\")):\n",
    "    for wav in os.listdir(r'D:\\custom dataset\\esc50\\audio'):\n",
    "        foreground_audio = AudioSegment.from_file('D://custom dataset//esc50//audio//'+wav, format=\"wav\")*2 + 3\n",
    "        background_audio = AudioSegment.from_file('D://custom dataset//Acoustic//traffic//'+file, format=\"wav\") - 3\n",
    "        combined_audio = background_audio.overlay(foreground_audio, position=0)\n",
    "        if not os.path.exists('D://custom dataset//custom_with_traffic'):\n",
    "            os.makedirs('D://custom dataset//custom_with_traffic')\n",
    "        combined_audio.export('D://custom dataset//custom_with_traffic//'+str(i)+'_'+wav, format=\"wav\")"
   ]
  },
  {
   "cell_type": "code",
   "execution_count": 13,
   "metadata": {},
   "outputs": [],
   "source": [
    "list1 = []\n",
    "for i in range(0,data.shape[0]):\n",
    "    caption=data.iloc[i]['caption']\n",
    "    dict1={\"wav\":data.iloc[i]['wav'],\n",
    "           \"labels\":sound_id_map[caption.split(' ')[0]]+\",/m/051\",\n",
    "           \"caption\":caption}\n",
    "    if(exists('D://custom dataset//'+data.iloc[i]['wav'])):\n",
    "     list1.append(dict1)"
   ]
  },
  {
   "cell_type": "code",
   "execution_count": 14,
   "metadata": {},
   "outputs": [],
   "source": [
    "for i in range(0,data2.shape[0]):\n",
    "    caption=data2.iloc[i]['caption']\n",
    "    dict2={\"wav\":data2.iloc[i]['wav'],\n",
    "           \"labels\":sound_id_map[caption.split(' ')[0]]+\",/m/052\",\n",
    "           \"caption\":caption}\n",
    "    if(exists('D://custom dataset//'+data2.iloc[i]['wav'])):\n",
    "     list1.append(dict2)"
   ]
  },
  {
   "cell_type": "code",
   "execution_count": 15,
   "metadata": {},
   "outputs": [],
   "source": [
    "list1_val=[]\n",
    "for i in range(0,data_val.shape[0]):\n",
    "    caption=data_val.iloc[i]['caption']\n",
    "    dict1={\"wav\":data_val.iloc[i]['wav'],\n",
    "           \"labels\":sound_id_map[caption.split(' ')[0]]+\",/m/051\",\n",
    "           \"caption\":caption}\n",
    "    if(exists('D://custom dataset//'+data_val.iloc[i]['wav'])):\n",
    "     list1_val.append(dict1)\n",
    "for i in range(0,data2_val.shape[0]):\n",
    "    caption=data2_val.iloc[i]['caption']\n",
    "    dict2={\"wav\":data2_val.iloc[i]['wav'],\n",
    "           \"labels\":sound_id_map[caption.split(' ')[0]]+\",/m/052\",\n",
    "           \"caption\":caption}\n",
    "    if(exists('D://custom dataset//'+data2_val.iloc[i]['wav'])):\n",
    "     list1_val.append(dict2)"
   ]
  },
  {
   "cell_type": "code",
   "execution_count": 16,
   "metadata": {},
   "outputs": [],
   "source": [
    "list1_val=[]\n",
    "for i in range(0,data_val.shape[0]):\n",
    "    caption=data_val.iloc[i]['caption']\n",
    "    dict1={\"wav\":data_val.iloc[i]['wav'],\n",
    "           \"labels\":sound_id_map[caption.split(' ')[0]]+\",/m/051\",  ## Caption added with Background sound of airport label id\n",
    "           \"caption\":caption}\n",
    "    if(exists('Acoustic Scenes//'+data_val.iloc[i]['wav'])):\n",
    "     list1_val.append(dict1)\n",
    "for i in range(0,data2_val.shape[0]):\n",
    "    caption=data2_val.iloc[i]['caption']\n",
    "    dict2={\"wav\":data2_val.iloc[i]['wav'],\n",
    "           \"labels\":sound_id_map[caption.split(' ')[0]]+\",/m/052\",   ## Caption added with Background sound of traffic label id\n",
    "           \"caption\":caption}\n",
    "    if(exists('Acoustic Scenes//'+data2_val.iloc[i]['wav'])):\n",
    "     list1_val.append(dict2)"
   ]
  },
  {
   "cell_type": "code",
   "execution_count": 17,
   "metadata": {},
   "outputs": [],
   "source": [
    "# dict1={\"data\":list1}\n",
    "# dict2 = {\"data\":list2}\n",
    "final_dict_train={\"data\":list1}\n",
    "final_dict_val={\"data\":list1_val}"
   ]
  },
  {
   "cell_type": "code",
   "execution_count": 20,
   "metadata": {},
   "outputs": [
    {
     "name": "stdout",
     "output_type": "stream",
     "text": [
      "custom_dataset_with_airport/0_5-61635-A-8.wav\n",
      "custom_dataset_with_airport/0_5-9032-A-0.wav\n",
      "custom_dataset_with_airport/1_5-61635-A-8.wav\n",
      "custom_dataset_with_airport/1_5-9032-A-0.wav\n",
      "custom_dataset_with_airport/2_5-61635-A-8.wav\n",
      "custom_dataset_with_airport/2_5-9032-A-0.wav\n",
      "custom_dataset_with_airport/3_5-61635-A-8.wav\n",
      "custom_dataset_with_airport/3_5-9032-A-0.wav\n",
      "custom_dataset_with_airport/4_5-61635-A-8.wav\n",
      "custom_dataset_with_airport/4_5-9032-A-0.wav\n",
      "custom_dataset_with_airport/5_5-61635-A-8.wav\n",
      "custom_dataset_with_airport/5_5-9032-A-0.wav\n",
      "custom_dataset_with_airport/6_5-61635-A-8.wav\n",
      "custom_dataset_with_airport/6_5-9032-A-0.wav\n",
      "custom_dataset_with_airport/7_5-61635-A-8.wav\n",
      "custom_dataset_with_airport/7_5-9032-A-0.wav\n",
      "custom_dataset_with_airport/8_5-61635-A-8.wav\n",
      "custom_dataset_with_airport/8_5-9032-A-0.wav\n",
      "custom_dataset_with_airport/9_5-61635-A-8.wav\n",
      "custom_dataset_with_airport/9_5-9032-A-0.wav\n",
      "custom_dataset_with_traffic/0_5-61635-A-8.wav\n",
      "custom_dataset_with_traffic/0_5-9032-A-0.wav\n",
      "custom_dataset_with_traffic/1_5-61635-A-8.wav\n",
      "custom_dataset_with_traffic/1_5-9032-A-0.wav\n",
      "custom_dataset_with_traffic/2_5-61635-A-8.wav\n",
      "custom_dataset_with_traffic/2_5-9032-A-0.wav\n",
      "custom_dataset_with_traffic/3_5-61635-A-8.wav\n",
      "custom_dataset_with_traffic/3_5-9032-A-0.wav\n",
      "custom_dataset_with_traffic/4_5-61635-A-8.wav\n",
      "custom_dataset_with_traffic/4_5-9032-A-0.wav\n",
      "custom_dataset_with_traffic/5_5-61635-A-8.wav\n",
      "custom_dataset_with_traffic/5_5-9032-A-0.wav\n",
      "custom_dataset_with_traffic/6_5-61635-A-8.wav\n",
      "custom_dataset_with_traffic/6_5-9032-A-0.wav\n",
      "custom_dataset_with_traffic/7_5-61635-A-8.wav\n",
      "custom_dataset_with_traffic/7_5-9032-A-0.wav\n",
      "custom_dataset_with_traffic/8_5-61635-A-8.wav\n",
      "custom_dataset_with_traffic/8_5-9032-A-0.wav\n",
      "custom_dataset_with_traffic/9_5-61635-A-8.wav\n",
      "custom_dataset_with_traffic/9_5-9032-A-0.wav\n",
      "40\n"
     ]
    }
   ],
   "source": [
    "from os.path import exists\n",
    "cnt=0\n",
    "\n",
    "for audio in audio_location:\n",
    "    audio_path='D://Sagnik//Acoustic Scenes//'+audio\n",
    "    if(exists(audio_path)==False):\n",
    "        cnt+=1\n",
    "        print(audio)\n",
    "print(cnt)"
   ]
  },
  {
   "cell_type": "code",
   "execution_count": 18,
   "metadata": {},
   "outputs": [],
   "source": [
    "import json\n",
    "\n",
    "\n",
    "file_train_json=\"esc_custom_train_label.json\"\n",
    "with open(file_train_json, \"w\") as json_file1:\n",
    "    json.dump(final_dict_train, json_file1, indent=4)\n",
    "\n",
    "file_val_json=\"esc_custom_val_label.json\"\n",
    "with open(file_val_json, \"w\") as json_file2:\n",
    "    json.dump(final_dict_val, json_file2, indent=4)\n",
    "\n",
    "file_test_json=\"esc_custom_test_label.json\"\n",
    "with open(file_test_json, \"w\") as json_file3:\n",
    "    json.dump(final_dict_val, json_file3, indent=4)"
   ]
  },
  {
   "cell_type": "code",
   "execution_count": 5,
   "metadata": {},
   "outputs": [],
   "source": []
  },
  {
   "cell_type": "code",
   "execution_count": 4,
   "metadata": {},
   "outputs": [],
   "source": []
  },
  {
   "cell_type": "code",
   "execution_count": null,
   "metadata": {},
   "outputs": [],
   "source": [
    "from pydub import AudioSegment\n",
    "\n",
    "# Load the foreground audio\n",
    "foreground_audio = AudioSegment.from_file(\"0001 (2).wav\", format=\"wav\")\n",
    "\n",
    "# Load the background audio\n",
    "background_audio = AudioSegment.from_file(\"0009.wav\", format=\"wav\")\n",
    "\n",
    "# Make the background audio loop infinitely\n",
    "looped_background = background_audio.reverse() - 3 # Multiply by a large number to make it long enough\n",
    "\n",
    "# Overlay the foreground audio on the background audio\n",
    "combined_audio = looped_background.overlay(foreground_audio + 3, position=0)\n",
    "\n",
    "# Export the combined audio\n",
    "combined_audio.export(\"combined_audio.wav\", format=\"wav\")"
   ]
  },
  {
   "cell_type": "code",
   "execution_count": null,
   "metadata": {},
   "outputs": [],
   "source": []
  }
 ],
 "metadata": {
  "kernelspec": {
   "display_name": "Python 3",
   "language": "python",
   "name": "python3"
  },
  "language_info": {
   "codemirror_mode": {
    "name": "ipython",
    "version": 3
   },
   "file_extension": ".py",
   "mimetype": "text/x-python",
   "name": "python",
   "nbconvert_exporter": "python",
   "pygments_lexer": "ipython3",
   "version": "3.9.0"
  }
 },
 "nbformat": 4,
 "nbformat_minor": 2
}
